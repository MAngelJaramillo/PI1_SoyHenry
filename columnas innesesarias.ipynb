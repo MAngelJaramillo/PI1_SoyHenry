{
 "cells": [
  {
   "cell_type": "code",
   "execution_count": 1,
   "metadata": {},
   "outputs": [],
   "source": [
    "import pandas as pd"
   ]
  },
  {
   "cell_type": "code",
   "execution_count": 3,
   "metadata": {},
   "outputs": [],
   "source": [
    "df = pd.read_csv('C:/Users/march/Downloads/Movies/dataset_completo.csv', sep=',')"
   ]
  },
  {
   "cell_type": "code",
   "execution_count": 4,
   "metadata": {},
   "outputs": [],
   "source": [
    "columns_to_drop = [\n",
    "    'act_profile_path', 'crew_profile_path', \n",
    "    'act_id', 'act_credit_id', \n",
    "    'cast_id', 'crew_id', 'crew_credit_id'\n",
    "]\n",
    "\n",
    "# Eliminar las columnas innecesarias que existen en el DataFrame\n",
    "columns_to_drop_existing = [col for col in columns_to_drop if col in df.columns]\n",
    "df_cleaned = df.drop(columns=columns_to_drop_existing)"
   ]
  },
  {
   "cell_type": "code",
   "execution_count": 7,
   "metadata": {},
   "outputs": [],
   "source": [
    "cleaned_file_path = 'C:/Users/march/Downloads/Movies/dataset_full.csv'  # Ajusta la ruta para guardar tu archivo limpio\n",
    "df_cleaned.to_csv(cleaned_file_path, index=False)"
   ]
  }
 ],
 "metadata": {
  "kernelspec": {
   "display_name": "Python 3",
   "language": "python",
   "name": "python3"
  },
  "language_info": {
   "codemirror_mode": {
    "name": "ipython",
    "version": 3
   },
   "file_extension": ".py",
   "mimetype": "text/x-python",
   "name": "python",
   "nbconvert_exporter": "python",
   "pygments_lexer": "ipython3",
   "version": "3.11.4"
  }
 },
 "nbformat": 4,
 "nbformat_minor": 2
}
